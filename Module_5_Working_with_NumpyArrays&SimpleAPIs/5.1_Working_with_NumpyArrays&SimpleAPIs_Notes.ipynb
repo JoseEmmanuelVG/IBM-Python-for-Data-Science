{
 "cells": [
  {
   "cell_type": "markdown",
   "id": "a21bcedf",
   "metadata": {},
   "source": [
    "## 🧮 Module 5: Working with Numpy Arrays & Simple APIs\n",
    "\n",
    "---\n",
    "\n",
    "In this module, we will explore the basics of communication between web applications using the HTTP protocol and the use of Python APIs. You will learn how requests and responses work on the web, how to interact with public APIs and how to process data in different formats. In addition, we will address key concepts such as the difference between APIs and REST APIs, and perform basic web scraping tasks to extract information from websites.\n",
    "\n",
    "\n",
    "## 🎯 Objectives\n",
    "\n",
    "In this module, you will learn how to:\n",
    "\n",
    "- Understand the use of the **HTTP protocol** using the `requests` library\n",
    "- Describe how **URL request and response** workflows operate in HTTP\n",
    "- Apply simple and public **APIs** using Python\n",
    "- Perform basic web scraping\n",
    "- Work with different **file formats** (CSV, JSON, etc.)\n",
    "- Explain the **difference between APIs and REST APIs**.\n",
    "- Summarize how APIs **receive and send information**.\n",
    "---\n",
    "\n",
    "## 🔢 Working with NumPy Arrays\n",
    "\n",
    "### ✅ 1D Arrays\n",
    "\n",
    "**Creating and using NumPy 1D arrays:**"
   ]
  },
  {
   "cell_type": "code",
   "execution_count": 1,
   "id": "1459db22",
   "metadata": {},
   "outputs": [
    {
     "name": "stdout",
     "output_type": "stream",
     "text": [
      "[0 1 0]\n"
     ]
    }
   ],
   "source": [
    "import numpy as np\n",
    "\n",
    "a = np.array([0, 1, 2])\n",
    "b = np.array([2, 1, 0])\n",
    "result = a * b  # Element-wise multiplication\n",
    "print(result)   # Output: [0 1 0]"
   ]
  },
  {
   "cell_type": "markdown",
   "id": "75dedd03",
   "metadata": {},
   "source": [
    "**Dot product example:**"
   ]
  },
  {
   "cell_type": "code",
   "execution_count": 2,
   "id": "ae1877ab",
   "metadata": {},
   "outputs": [
    {
     "data": {
      "text/plain": [
       "np.int64(11)"
      ]
     },
     "execution_count": 2,
     "metadata": {},
     "output_type": "execute_result"
    }
   ],
   "source": [
    "# Example of dot product\n",
    "np.dot(np.array([1, 2]), np.array([3, 4]))  # 1*3 + 2*4 = 11"
   ]
  },
  {
   "cell_type": "markdown",
   "id": "4397af75",
   "metadata": {},
   "source": [
    "---\n",
    "\n",
    "### ✅ 2D Arrays\n",
    "\n",
    "**Creating and accessing NumPy 2D arrays:**"
   ]
  },
  {
   "cell_type": "code",
   "execution_count": 3,
   "id": "d610b288",
   "metadata": {},
   "outputs": [
    {
     "name": "stdout",
     "output_type": "stream",
     "text": [
      "(3, 2)\n"
     ]
    }
   ],
   "source": [
    "A = np.array([[1, 2], [3, 4], [5, 6]])\n",
    "print(A.shape)  # (3, 2) → 3 rows, 2 columns"
   ]
  },
  {
   "cell_type": "markdown",
   "id": "dfdfd645",
   "metadata": {},
   "source": [
    "**Matrix multiplication:**"
   ]
  },
  {
   "cell_type": "code",
   "execution_count": 4,
   "id": "f0853dc1",
   "metadata": {},
   "outputs": [
    {
     "name": "stdout",
     "output_type": "stream",
     "text": [
      "[[ 9 12 15]\n",
      " [19 26 33]\n",
      " [29 40 51]]\n"
     ]
    }
   ],
   "source": [
    "B = np.array([[1, 2, 3], [4, 5, 6]])\n",
    "C = np.dot(A, B)\n",
    "print(C)"
   ]
  },
  {
   "cell_type": "markdown",
   "id": "a71cd341",
   "metadata": {},
   "source": [
    "---\n",
    "\n",
    "## 🌐 Simple APIs with Python\n",
    "\n",
    "### 🔹 HTTP Requests\n",
    "\n",
    "Using the `requests` library to make HTTP calls:"
   ]
  },
  {
   "cell_type": "code",
   "execution_count": 5,
   "id": "550b32b8",
   "metadata": {},
   "outputs": [
    {
     "name": "stdout",
     "output_type": "stream",
     "text": [
      "200\n",
      "{'current_user_url': 'https://api.github.com/user', 'current_user_authorizations_html_url': 'https://github.com/settings/connections/applications{/client_id}', 'authorizations_url': 'https://api.github.com/authorizations', 'code_search_url': 'https://api.github.com/search/code?q={query}{&page,per_page,sort,order}', 'commit_search_url': 'https://api.github.com/search/commits?q={query}{&page,per_page,sort,order}', 'emails_url': 'https://api.github.com/user/emails', 'emojis_url': 'https://api.github.com/emojis', 'events_url': 'https://api.github.com/events', 'feeds_url': 'https://api.github.com/feeds', 'followers_url': 'https://api.github.com/user/followers', 'following_url': 'https://api.github.com/user/following{/target}', 'gists_url': 'https://api.github.com/gists{/gist_id}', 'hub_url': 'https://api.github.com/hub', 'issue_search_url': 'https://api.github.com/search/issues?q={query}{&page,per_page,sort,order}', 'issues_url': 'https://api.github.com/issues', 'keys_url': 'https://api.github.com/user/keys', 'label_search_url': 'https://api.github.com/search/labels?q={query}&repository_id={repository_id}{&page,per_page}', 'notifications_url': 'https://api.github.com/notifications', 'organization_url': 'https://api.github.com/orgs/{org}', 'organization_repositories_url': 'https://api.github.com/orgs/{org}/repos{?type,page,per_page,sort}', 'organization_teams_url': 'https://api.github.com/orgs/{org}/teams', 'public_gists_url': 'https://api.github.com/gists/public', 'rate_limit_url': 'https://api.github.com/rate_limit', 'repository_url': 'https://api.github.com/repos/{owner}/{repo}', 'repository_search_url': 'https://api.github.com/search/repositories?q={query}{&page,per_page,sort,order}', 'current_user_repositories_url': 'https://api.github.com/user/repos{?type,page,per_page,sort}', 'starred_url': 'https://api.github.com/user/starred{/owner}{/repo}', 'starred_gists_url': 'https://api.github.com/gists/starred', 'topic_search_url': 'https://api.github.com/search/topics?q={query}{&page,per_page}', 'user_url': 'https://api.github.com/users/{user}', 'user_organizations_url': 'https://api.github.com/user/orgs', 'user_repositories_url': 'https://api.github.com/users/{user}/repos{?type,page,per_page,sort}', 'user_search_url': 'https://api.github.com/search/users?q={query}{&page,per_page,sort,order}'}\n"
     ]
    }
   ],
   "source": [
    "import requests\n",
    "\n",
    "response = requests.get(\"https://api.github.com\")\n",
    "print(response.status_code)  # 200 if successful\n",
    "print(response.json())       # Display returned JSON data"
   ]
  },
  {
   "cell_type": "markdown",
   "id": "de168faf",
   "metadata": {},
   "source": [
    "---\n",
    "\n",
    "### 🔹 How HTTP Works\n",
    "\n",
    "- A client sends a **request** to a URL (endpoint)  \n",
    "- The server sends back a **response** (status code + data)  \n",
    "- Data is often returned in **JSON** format  \n",
    "\n",
    "---\n",
    "\n",
    "## 📡 APIs vs REST APIs\n",
    "\n",
    "| Feature   | API                        | REST API                        |\n",
    "|-----------|----------------------------|----------------------------------|\n",
    "| Protocol  | May use different protocols| Always uses HTTP                |\n",
    "| Format    | Varies                     | Commonly JSON or XML            |\n",
    "| Methods   | Function calls             | HTTP methods: GET, POST, PUT, DELETE |\n",
    "\n",
    "---\n",
    "\n",
    "## 🧪 Lab Examples\n",
    "\n",
    "### 🔍 Example 1: Element-wise operations"
   ]
  },
  {
   "cell_type": "code",
   "execution_count": 6,
   "id": "2805cfa7",
   "metadata": {},
   "outputs": [
    {
     "name": "stdout",
     "output_type": "stream",
     "text": [
      "[0 0 0 0 0]\n"
     ]
    }
   ],
   "source": [
    "a = np.array([0, 1, 0, 1, 0])\n",
    "b = np.array([1, 0, 1, 0, 1])\n",
    "print(a * b)  # Output: [0 0 0 0 0]"
   ]
  },
  {
   "cell_type": "markdown",
   "id": "604f1e28",
   "metadata": {},
   "source": [
    "### 🔍 Example 2: Dot Product"
   ]
  },
  {
   "cell_type": "code",
   "execution_count": 7,
   "id": "a097cdaf",
   "metadata": {},
   "outputs": [
    {
     "name": "stdout",
     "output_type": "stream",
     "text": [
      "0\n"
     ]
    }
   ],
   "source": [
    "a = np.array([0, 1])\n",
    "b = np.array([1, 0])\n",
    "print(np.dot(a, b))  # Output: 0"
   ]
  },
  {
   "cell_type": "markdown",
   "id": "fbe60bee",
   "metadata": {},
   "source": [
    "### 🔍 Example 3: Broadcasting"
   ]
  },
  {
   "cell_type": "code",
   "execution_count": 8,
   "id": "c29d5ecd",
   "metadata": {},
   "outputs": [
    {
     "name": "stdout",
     "output_type": "stream",
     "text": [
      "[11 11 11 11 11]\n"
     ]
    }
   ],
   "source": [
    "a = np.array([1, 1, 1, 1, 1])\n",
    "print(a + 10)  # Output: [11 11 11 11 11]"
   ]
  },
  {
   "cell_type": "markdown",
   "id": "1acb5b98",
   "metadata": {},
   "source": [
    "### 🔍 Example 4: Valid Matrix Multiplication"
   ]
  },
  {
   "cell_type": "code",
   "execution_count": 9,
   "id": "e82375fa",
   "metadata": {},
   "outputs": [
    {
     "name": "stdout",
     "output_type": "stream",
     "text": [
      "[[ 4  4]\n",
      " [10  8]]\n"
     ]
    }
   ],
   "source": [
    "A = np.array([[1, 2], [3, 4]])\n",
    "B = np.array([[2, 0], [1, 2]])\n",
    "C = np.dot(A, B)\n",
    "print(C)  # Output: [[4 4], [10 8]]"
   ]
  },
  {
   "cell_type": "markdown",
   "id": "62ad7a40",
   "metadata": {},
   "source": [
    "---\n",
    "\n",
    "This content is based on the IBM Cognitive Class course Python 101 for Data Science, Module 3: Python Programming Fundamentals. Exercises and review questions reinforce understanding of core collection types in Python.\n",
    "\n",
    "\n",
    "\n",
    "---"
   ]
  }
 ],
 "metadata": {
  "kernelspec": {
   "display_name": "Python 3",
   "language": "python",
   "name": "python3"
  },
  "language_info": {
   "codemirror_mode": {
    "name": "ipython",
    "version": 3
   },
   "file_extension": ".py",
   "mimetype": "text/x-python",
   "name": "python",
   "nbconvert_exporter": "python",
   "pygments_lexer": "ipython3",
   "version": "3.12.1"
  }
 },
 "nbformat": 4,
 "nbformat_minor": 5
}
