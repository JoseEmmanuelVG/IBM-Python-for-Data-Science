{
 "cells": [
  {
   "cell_type": "markdown",
   "id": "a21bcedf",
   "metadata": {},
   "source": [
    "## 🧮 Module 5: Working with Numpy Arrays & Simple APIs\n",
    "\n",
    "---\n",
    "\n",
    "In this module, we will explore the basics of communication between web applications using the HTTP protocol and the use of Python APIs. You will learn how requests and responses work on the web, how to interact with public APIs and how to process data in different formats. In addition, we will address key concepts such as the difference between APIs and REST APIs, and perform basic web scraping tasks to extract information from websites.\n",
    "\n",
    "\n",
    "## 🎯 Objectives\n",
    "\n",
    "In this module, you will learn how to:\n",
    "\n",
    "- Understand the use of the **HTTP protocol** using the `requests` library\n",
    "- Describe how **URL request and response** workflows operate in HTTP\n",
    "- Apply simple and public **APIs** using Python\n",
    "- Perform basic web scraping\n",
    "- Work with different **file formats** (CSV, JSON, etc.)\n",
    "- Explain the **difference between APIs and REST APIs**.\n",
    "- Summarize how APIs **receive and send information**.\n",
    "---\n",
    "\n",
    "## 🔢 Working with NumPy Arrays\n",
    "\n",
    "### ✅ 1D Arrays\n",
    "\n",
    "**Creating and using NumPy 1D arrays:**"
   ]
  },
  {
   "cell_type": "code",
   "execution_count": null,
   "id": "1459db22",
   "metadata": {},
   "outputs": [],
   "source": [
    "python\n",
    "import numpy as np\n",
    "\n",
    "a = np.array([0, 1, 2])\n",
    "b = np.array([2, 1, 0])\n",
    "result = a * b  # Element-wise multiplication\n",
    "print(result)   # Output: [0 1 0]"
   ]
  },
  {
   "cell_type": "markdown",
   "id": "75dedd03",
   "metadata": {},
   "source": [
    "**Dot product example:**"
   ]
  },
  {
   "cell_type": "code",
   "execution_count": null,
   "id": "ae1877ab",
   "metadata": {},
   "outputs": [],
   "source": [
    "python\n",
    "np.dot(np.array([1, 2]), np.array([3, 4]))  # 1*3 + 2*4 = 11"
   ]
  },
  {
   "cell_type": "markdown",
   "id": "4397af75",
   "metadata": {},
   "source": [
    "---\n",
    "\n",
    "### ✅ 2D Arrays\n",
    "\n",
    "**Creating and accessing NumPy 2D arrays:**"
   ]
  },
  {
   "cell_type": "code",
   "execution_count": null,
   "id": "d610b288",
   "metadata": {},
   "outputs": [],
   "source": [
    "python\n",
    "A = np.array([[1, 2], [3, 4], [5, 6]])\n",
    "print(A.shape)  # (3, 2) → 3 rows, 2 columns"
   ]
  },
  {
   "cell_type": "markdown",
   "id": "dfdfd645",
   "metadata": {},
   "source": [
    "**Matrix multiplication:**"
   ]
  },
  {
   "cell_type": "code",
   "execution_count": null,
   "id": "f0853dc1",
   "metadata": {},
   "outputs": [],
   "source": [
    "python\n",
    "B = np.array([[1, 2, 3], [4, 5, 6]])\n",
    "C = np.dot(A, B)\n",
    "print(C)"
   ]
  },
  {
   "cell_type": "markdown",
   "id": "a71cd341",
   "metadata": {},
   "source": [
    "---\n",
    "\n",
    "## 🌐 Simple APIs with Python\n",
    "\n",
    "### 🔹 HTTP Requests\n",
    "\n",
    "Using the `requests` library to make HTTP calls:"
   ]
  },
  {
   "cell_type": "code",
   "execution_count": null,
   "id": "550b32b8",
   "metadata": {},
   "outputs": [],
   "source": [
    "python\n",
    "import requests\n",
    "\n",
    "response = requests.get(\"https://api.github.com\")\n",
    "print(response.status_code)  # 200 if successful\n",
    "print(response.json())       # Display returned JSON data"
   ]
  },
  {
   "cell_type": "markdown",
   "id": "de168faf",
   "metadata": {},
   "source": [
    "---\n",
    "\n",
    "### 🔹 How HTTP Works\n",
    "\n",
    "- A client sends a **request** to a URL (endpoint)  \n",
    "- The server sends back a **response** (status code + data)  \n",
    "- Data is often returned in **JSON** format  \n",
    "\n",
    "---\n",
    "\n",
    "## 📡 APIs vs REST APIs\n",
    "\n",
    "| Feature   | API                        | REST API                        |\n",
    "|-----------|----------------------------|----------------------------------|\n",
    "| Protocol  | May use different protocols| Always uses HTTP                |\n",
    "| Format    | Varies                     | Commonly JSON or XML            |\n",
    "| Methods   | Function calls             | HTTP methods: GET, POST, PUT, DELETE |\n",
    "\n",
    "---\n",
    "\n",
    "## 🧪 Lab Examples\n",
    "\n",
    "### 🔍 Example 1: Element-wise operations"
   ]
  },
  {
   "cell_type": "code",
   "execution_count": null,
   "id": "2805cfa7",
   "metadata": {},
   "outputs": [],
   "source": [
    "python\n",
    "a = np.array([0, 1, 0, 1, 0])\n",
    "b = np.array([1, 0, 1, 0, 1])\n",
    "print(a * b)  # Output: [0 0 0 0 0]"
   ]
  },
  {
   "cell_type": "markdown",
   "id": "604f1e28",
   "metadata": {},
   "source": [
    "### 🔍 Example 2: Dot Product"
   ]
  },
  {
   "cell_type": "code",
   "execution_count": null,
   "id": "a097cdaf",
   "metadata": {},
   "outputs": [],
   "source": [
    "python\n",
    "a = np.array([0, 1])\n",
    "b = np.array([1, 0])\n",
    "print(np.dot(a, b))  # Output: 0"
   ]
  },
  {
   "cell_type": "markdown",
   "id": "fbe60bee",
   "metadata": {},
   "source": [
    "### 🔍 Example 3: Broadcasting"
   ]
  },
  {
   "cell_type": "code",
   "execution_count": null,
   "id": "c29d5ecd",
   "metadata": {},
   "outputs": [],
   "source": [
    "python\n",
    "a = np.array([1, 1, 1, 1, 1])\n",
    "print(a + 10)  # Output: [11 11 11 11 11]"
   ]
  },
  {
   "cell_type": "markdown",
   "id": "1acb5b98",
   "metadata": {},
   "source": [
    "### 🔍 Example 4: Valid Matrix Multiplication"
   ]
  },
  {
   "cell_type": "code",
   "execution_count": null,
   "id": "e82375fa",
   "metadata": {},
   "outputs": [],
   "source": [
    "python\n",
    "A = np.array([[1, 2], [3, 4]])\n",
    "B = np.array([[2, 0], [1, 2]])\n",
    "C = np.dot(A, B)\n",
    "print(C)  # Output: [[4 4], [10 8]]"
   ]
  },
  {
   "cell_type": "markdown",
   "id": "62ad7a40",
   "metadata": {},
   "source": [
    "---\n",
    "\n",
    "This content is based on the IBM Cognitive Class course Python 101 for Data Science, Module 3: Python Programming Fundamentals. Exercises and review questions reinforce understanding of core collection types in Python.\n",
    "\n",
    "\n",
    "\n",
    "---"
   ]
  }
 ],
 "metadata": {},
 "nbformat": 4,
 "nbformat_minor": 5
}