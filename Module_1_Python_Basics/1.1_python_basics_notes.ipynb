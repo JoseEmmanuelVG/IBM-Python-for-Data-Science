{
 "cells": [
  {
   "cell_type": "markdown",
   "id": "c51016e5",
   "metadata": {},
   "source": [
    "# 🧠 Module 1: Python Basics\n",
    "\n",
    "This section introduces the fundamental elements of Python programming. After completing it, you will be able to:\n",
    "\n",
    "- Understand the basic data types in Python.\n",
    "- Work with expressions and variables.\n",
    "- Perform string operations.\n",
    "- Write and execute simple Python code.\n",
    "\n",
    "---\n",
    "\n",
    "## ✨ Your First Python Program\n",
    "\n",
    "In Python, you can print text using the `print()` function:"
   ]
  },
  {
   "cell_type": "code",
   "execution_count": 6,
   "id": "6c7aad24",
   "metadata": {},
   "outputs": [
    {
     "name": "stdout",
     "output_type": "stream",
     "text": [
      "Hello World!\n"
     ]
    }
   ],
   "source": [
    "print(\"Hello World!\")"
   ]
  },
  {
   "cell_type": "markdown",
   "id": "4ea0ea70",
   "metadata": {},
   "source": [
    "To include a line break, use `\\n`:"
   ]
  },
  {
   "cell_type": "code",
   "execution_count": 7,
   "id": "18071e36",
   "metadata": {},
   "outputs": [
    {
     "name": "stdout",
     "output_type": "stream",
     "text": [
      "Hello\n",
      "World!\n"
     ]
    }
   ],
   "source": [
    "print(\"Hello\\nWorld!\")\n",
    "# Output:\n",
    "# Hello\n",
    "# World!"
   ]
  },
  {
   "cell_type": "markdown",
   "id": "bb14d665",
   "metadata": {},
   "source": [
    "---\n",
    "\n",
    "## 🔢 Data Types\n",
    "\n",
    "Python has several basic data types:\n",
    "\n",
    "- `int`: Integer numbers → `3`, `42`, `-7`\n",
    "- `float`: Decimal numbers → `3.14`, `2.0`\n",
    "- `str`: Strings of characters → `\"hello\"`, `'Python'`\n",
    "- `bool`: Boolean values → `True`, `False`\n",
    "\n",
    "Type conversion examples:"
   ]
  },
  {
   "cell_type": "code",
   "execution_count": 8,
   "id": "21f30915",
   "metadata": {},
   "outputs": [
    {
     "data": {
      "text/plain": [
       "'3'"
      ]
     },
     "execution_count": 8,
     "metadata": {},
     "output_type": "execute_result"
    }
   ],
   "source": [
    "int(1.0)    # → 1\n",
    "bool(1)     # → True\n",
    "float(2)    # → 2.0\n",
    "str(3)      # → '3'"
   ]
  },
  {
   "cell_type": "markdown",
   "id": "126c79a2",
   "metadata": {},
   "source": [
    "---\n",
    "\n",
    "## 🧮 Expressions and Variables\n",
    "\n",
    "Python respects operator precedence:"
   ]
  },
  {
   "cell_type": "code",
   "execution_count": 9,
   "id": "e1da77b9",
   "metadata": {},
   "outputs": [
    {
     "data": {
      "text/plain": [
       "7"
      ]
     },
     "execution_count": 9,
     "metadata": {},
     "output_type": "execute_result"
    }
   ],
   "source": [
    "3 + 2 * 2   # → 7 (not 10)"
   ]
  },
  {
   "cell_type": "markdown",
   "id": "f18013a0",
   "metadata": {},
   "source": [
    "Variables store values:"
   ]
  },
  {
   "cell_type": "code",
   "execution_count": 10,
   "id": "bc1b83dd",
   "metadata": {},
   "outputs": [
    {
     "name": "stdout",
     "output_type": "stream",
     "text": [
      "15\n"
     ]
    }
   ],
   "source": [
    "x = 10\n",
    "y = x + 5\n",
    "print(y)  # → 15"
   ]
  },
  {
   "cell_type": "markdown",
   "id": "1cf5fd05",
   "metadata": {},
   "source": [
    "You can use different operators:\n",
    "\n",
    "- `+` addition  \n",
    "- `-` subtraction  \n",
    "- `*` multiplication  \n",
    "- `/` division  \n",
    "- `**` exponentiation  \n",
    "- `%` modulo  \n",
    "\n",
    "---\n",
    "\n",
    "## 🧵 String Operations\n",
    "\n",
    "### String Creation and Indexing"
   ]
  },
  {
   "cell_type": "code",
   "execution_count": 11,
   "id": "2ee46fa9",
   "metadata": {},
   "outputs": [
    {
     "name": "stdout",
     "output_type": "stream",
     "text": [
      "Li\n"
     ]
    }
   ],
   "source": [
    "name = \"Lizz\"\n",
    "print(name[0:2])  # → 'Li'"
   ]
  },
  {
   "cell_type": "markdown",
   "id": "f541e585",
   "metadata": {},
   "source": [
    "- `name[0]` → `'L'`\n",
    "- `name[1]` → `'i'`\n",
    "- `name[0:2]` → `'Li'` (up to but not including index 2)\n",
    "\n",
    "---\n",
    "\n",
    "### String Slicing with Step"
   ]
  },
  {
   "cell_type": "code",
   "execution_count": 12,
   "id": "e75dcbe5",
   "metadata": {},
   "outputs": [
    {
     "name": "stdout",
     "output_type": "stream",
     "text": [
      "0246\n"
     ]
    }
   ],
   "source": [
    "var = \"01234567\"\n",
    "print(var[::2])   # → '0246'"
   ]
  },
  {
   "cell_type": "markdown",
   "id": "27f91892",
   "metadata": {},
   "source": [
    "This takes every second character, starting from index 0.\n",
    "\n",
    "---\n",
    "\n",
    "### String Concatenation"
   ]
  },
  {
   "cell_type": "code",
   "execution_count": 13,
   "id": "c88a8e20",
   "metadata": {},
   "outputs": [
    {
     "data": {
      "text/plain": [
       "'12'"
      ]
     },
     "execution_count": 13,
     "metadata": {},
     "output_type": "execute_result"
    }
   ],
   "source": [
    "'1' + '2'  # → '12'"
   ]
  },
  {
   "cell_type": "markdown",
   "id": "21cc2f6a",
   "metadata": {},
   "source": [
    "This merges both strings together.\n",
    "\n",
    "---\n",
    "\n",
    "### String Methods"
   ]
  },
  {
   "cell_type": "code",
   "execution_count": 14,
   "id": "26adf5b3",
   "metadata": {},
   "outputs": [
    {
     "data": {
      "text/plain": [
       "'HELLO'"
      ]
     },
     "execution_count": 14,
     "metadata": {},
     "output_type": "execute_result"
    }
   ],
   "source": [
    "myvar = \"hello\"\n",
    "myvar.upper()  # → 'HELLO'"
   ]
  },
  {
   "cell_type": "markdown",
   "id": "48f8ca0b",
   "metadata": {},
   "source": [
    "Common string methods:\n",
    "\n",
    "- `.upper()` – convert to uppercase  \n",
    "- `.lower()` – convert to lowercase  \n",
    "- `.find(\"substring\")` – returns index of first match or `-1`  \n",
    "- `.replace(\"old\", \"new\")`"
   ]
  }
 ],
 "metadata": {
  "kernelspec": {
   "display_name": "Python 3",
   "language": "python",
   "name": "python3"
  },
  "language": "python",
  "language_info": {
   "codemirror_mode": {
    "name": "ipython",
    "version": 3
   },
   "file_extension": ".py",
   "mimetype": "text/x-python",
   "name": "python",
   "nbconvert_exporter": "python",
   "pygments_lexer": "ipython3",
   "version": "3.12.1"
  }
 },
 "nbformat": 4,
 "nbformat_minor": 5
}
