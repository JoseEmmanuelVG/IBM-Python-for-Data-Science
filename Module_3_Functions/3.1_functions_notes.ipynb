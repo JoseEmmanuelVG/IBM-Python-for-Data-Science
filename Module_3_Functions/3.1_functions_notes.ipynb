{
 "cells": [
  {
   "cell_type": "markdown",
   "id": "741283bf",
   "metadata": {},
   "source": [
    "\n",
    "# 🧠 Module 3: Python Programming Fundamentals \n",
    "\n",
    "This section presents essential control structures and programming constructs in Python, including conditional logic, iteration, user-defined functions, and object-oriented programming. Upon completion of this module, learners will be able to:\n",
    "\n",
    "- Implement conditional and branching logic using `if`, `elif`, and `else`.\n",
    "- Construct `for` and `while` loops for iterative processes.\n",
    "- Define and invoke functions with fixed and variable arguments.\n",
    "- Create and manipulate objects and classes.\n",
    "\n",
    "---\n",
    "\n",
    "### 🔁 Conditional Statements\n",
    "\n",
    "Conditional structures control the flow of a program based on logical conditions. The `if` statement evaluates a Boolean expression and executes associated blocks accordingly.\n",
    "\n",
    "#### Example:\n"
   ]
  },
  {
   "cell_type": "code",
   "execution_count": 1,
   "id": "62769097",
   "metadata": {},
   "outputs": [
    {
     "name": "stdout",
     "output_type": "stream",
     "text": [
      "The weather is pleasant.\n",
      "Check complete.\n"
     ]
    }
   ],
   "source": [
    "temperature = 22\n",
    "\n",
    "if temperature > 25:\n",
    "    print(\"It's hot today.\")\n",
    "else:\n",
    "    print(\"The weather is pleasant.\")\n",
    "\n",
    "print(\"Check complete.\")"
   ]
  },
  {
   "cell_type": "markdown",
   "id": "c6ef1ba0",
   "metadata": {},
   "source": [
    "\n",
    "`temperature > 25` evaluates to False\n",
    "\n",
    "The else block is executed → prints 'The weather is pleasant.'\n",
    "\n",
    "After the conditional structure, 'Check complete.' is printed unconditionally\n",
    "\n",
    "✅ Output:\n"
   ]
  },
  {
   "cell_type": "markdown",
   "id": "34caaa22",
   "metadata": {},
   "source": [
    "```"
   ]
  },
  {
   "cell_type": "markdown",
   "id": "bfbf8089",
   "metadata": {},
   "source": [
    "\n",
    "The weather is pleasant.\n",
    "Check complete.\n"
   ]
  },
  {
   "cell_type": "markdown",
   "id": "06b816b2",
   "metadata": {},
   "source": [
    "```"
   ]
  },
  {
   "cell_type": "markdown",
   "id": "5449b447",
   "metadata": {},
   "source": [
    "\n",
    "\n",
    "---\n",
    "\n",
    "### 🔂 Loops\n",
    "\n",
    "Python supports both for and while loops for repeated execution of code blocks.\n",
    "\n",
    "#### `for` loop example:\n"
   ]
  },
  {
   "cell_type": "code",
   "execution_count": 2,
   "id": "7738136d",
   "metadata": {},
   "outputs": [
    {
     "name": "stdout",
     "output_type": "stream",
     "text": [
      "APPLE\n",
      "BANANA\n",
      "CHERRY\n"
     ]
    }
   ],
   "source": [
    "fruits = ['apple', 'banana', 'cherry']\n",
    "\n",
    "for fruit in fruits:\n",
    "    print(fruit.upper())"
   ]
  },
  {
   "cell_type": "markdown",
   "id": "0ca0e28d",
   "metadata": {},
   "source": [
    "\n",
    "Each fruit name is printed in uppercase:\n",
    "\n",
    "- 'APPLE'\n",
    "- 'BANANA'\n",
    "- 'CHERRY'\n",
    "\n",
    "✅ Output:\n"
   ]
  },
  {
   "cell_type": "markdown",
   "id": "07d39982",
   "metadata": {},
   "source": [
    "```"
   ]
  },
  {
   "cell_type": "markdown",
   "id": "926e90d8",
   "metadata": {},
   "source": [
    "\n",
    "APPLE\n",
    "BANANA\n",
    "CHERRY\n"
   ]
  },
  {
   "cell_type": "markdown",
   "id": "498f4176",
   "metadata": {},
   "source": [
    "```"
   ]
  },
  {
   "cell_type": "markdown",
   "id": "5bf806ea",
   "metadata": {},
   "source": [
    "\n",
    "\n",
    "#### `while` loop example:\n"
   ]
  },
  {
   "cell_type": "code",
   "execution_count": 3,
   "id": "79eda852",
   "metadata": {},
   "outputs": [
    {
     "name": "stdout",
     "output_type": "stream",
     "text": [
      "Count: 0\n",
      "Count: 1\n",
      "Count: 2\n"
     ]
    }
   ],
   "source": [
    "counter = 0\n",
    "\n",
    "while counter < 3:\n",
    "    print(f\"Count: {counter}\")\n",
    "    counter += 1"
   ]
  },
  {
   "cell_type": "markdown",
   "id": "885bb667",
   "metadata": {},
   "source": [
    "\n",
    "This loop prints values from `counter = 0` to `counter = 2`\n",
    "\n",
    "✅ Output:\n"
   ]
  },
  {
   "cell_type": "markdown",
   "id": "350b1f00",
   "metadata": {},
   "source": [
    "```"
   ]
  },
  {
   "cell_type": "markdown",
   "id": "b0e5683b",
   "metadata": {},
   "source": [
    "\n",
    "Count: 0\n",
    "Count: 1\n",
    "Count: 2\n"
   ]
  },
  {
   "cell_type": "markdown",
   "id": "fbdadf65",
   "metadata": {},
   "source": [
    "```"
   ]
  },
  {
   "cell_type": "markdown",
   "id": "29883386",
   "metadata": {},
   "source": [
    "\n",
    "\n",
    "---\n",
    "\n",
    "### 🔧 Functions\n",
    "\n",
    "Functions are reusable blocks of code defined using the `def` keyword.\n",
    "\n",
    "#### Example 1 – Global variable access:\n"
   ]
  },
  {
   "cell_type": "code",
   "execution_count": 4,
   "id": "0687f8e3",
   "metadata": {},
   "outputs": [],
   "source": [
    "base = 5\n",
    "\n",
    "def multiply(factor):\n",
    "    return base * factor\n",
    "\n",
    "result = multiply(4)"
   ]
  },
  {
   "cell_type": "markdown",
   "id": "c19054b1",
   "metadata": {},
   "source": [
    "\n",
    "Here, `base` is accessed from the global scope.  \n",
    "✅ `result = 20`\n",
    "\n",
    "#### Example 2 – Variable-length arguments:\n"
   ]
  },
  {
   "cell_type": "code",
   "execution_count": 5,
   "id": "dc8f81a3",
   "metadata": {},
   "outputs": [],
   "source": [
    "def concatenate(*args):\n",
    "    return ' '.join(args)"
   ]
  },
  {
   "cell_type": "markdown",
   "id": "a604d9bc",
   "metadata": {},
   "source": [
    "\n",
    "The `*args` parameter allows passing a variable number of string arguments.  \n",
    "✅ `concatenate(\"Hello\", \"World\")` returns `\"Hello World\"`  \n",
    "✅ Function purpose: _Concatenate a variable number of strings_\n",
    "\n",
    "#### Example 3 – Conditional return:\n"
   ]
  },
  {
   "cell_type": "code",
   "execution_count": 6,
   "id": "e3ec159e",
   "metadata": {},
   "outputs": [],
   "source": [
    "def is_even(n):\n",
    "    if n % 2 == 0:\n",
    "        return True\n",
    "    else:\n",
    "        return False"
   ]
  },
  {
   "cell_type": "markdown",
   "id": "9276ebc6",
   "metadata": {},
   "source": [
    "\n",
    "- Returns `True` if input is an even number\n",
    "- Returns `False` otherwise  \n",
    "✅ Example: `is_even(4)` returns `True`\n",
    "\n",
    "---\n",
    "\n",
    "### 🧱 Objects and Classes\n",
    "\n",
    "Python supports object-oriented programming through the use of classes and objects.\n",
    "\n",
    "#### Creating an object with parameters:\n",
    "Assuming the class `Book` is defined as:\n"
   ]
  },
  {
   "cell_type": "code",
   "execution_count": 7,
   "id": "d4612a6c",
   "metadata": {},
   "outputs": [],
   "source": [
    "class Book:\n",
    "    def __init__(self, title, author, year):\n",
    "        self.title = title\n",
    "        self.author = author\n",
    "        self.year = year"
   ]
  },
  {
   "cell_type": "markdown",
   "id": "3bca77bd",
   "metadata": {},
   "source": [
    "\n",
    "✅ Valid ways to instantiate:\n"
   ]
  },
  {
   "cell_type": "code",
   "execution_count": 8,
   "id": "26513d7c",
   "metadata": {},
   "outputs": [
    {
     "data": {
      "text/plain": [
       "<__main__.Book at 0x75941058a930>"
      ]
     },
     "execution_count": 8,
     "metadata": {},
     "output_type": "execute_result"
    }
   ],
   "source": [
    "Book(\"1984\", \"George Orwell\", 1949)\n",
    "Book(title=\"1984\", author=\"George Orwell\", year=1949)\n",
    "Book(author=\"George Orwell\", title=\"1984\", year=1949)"
   ]
  },
  {
   "cell_type": "markdown",
   "id": "74d4e0d8",
   "metadata": {},
   "source": [
    "\n",
    "❌ Incorrect (wrong order):\n"
   ]
  },
  {
   "cell_type": "code",
   "execution_count": 9,
   "id": "c8017bfe",
   "metadata": {},
   "outputs": [
    {
     "data": {
      "text/plain": [
       "<__main__.Book at 0x759401716660>"
      ]
     },
     "execution_count": 9,
     "metadata": {},
     "output_type": "execute_result"
    }
   ],
   "source": [
    "Book(1949, \"1984\", \"George Orwell\")"
   ]
  },
  {
   "cell_type": "markdown",
   "id": "052a19d7",
   "metadata": {},
   "source": [
    "\n",
    "\n",
    "#### Modifying an attribute:\n"
   ]
  },
  {
   "cell_type": "code",
   "execution_count": null,
   "id": "502ae39e",
   "metadata": {},
   "outputs": [],
   "source": [
    "# To change the availability attribute, use:\n",
    "book.checkout()"
   ]
  },
  {
   "cell_type": "markdown",
   "id": "77a99de5",
   "metadata": {},
   "source": [
    "\n",
    "✅ Correct method: _Utilising the method `checkout()`_\n",
    "\n",
    "---\n",
    "\n",
    "### 🗃️ Working with Lists and Dictionaries\n",
    "\n",
    "#### Sorting lists in-place:\n"
   ]
  },
  {
   "cell_type": "code",
   "execution_count": 18,
   "id": "c3bfcc7f",
   "metadata": {},
   "outputs": [
    {
     "name": "stdout",
     "output_type": "stream",
     "text": [
      "[2, 7, 9]\n"
     ]
    }
   ],
   "source": [
    "numbers = [7, 2, 9]\n",
    "numbers.sort()\n",
    "print(numbers)"
   ]
  },
  {
   "cell_type": "markdown",
   "id": "a4448e55",
   "metadata": {},
   "source": [
    "\n",
    "`.sort()` modifies the list directly  \n",
    "✅ Correct: `numbers.sort()`\n",
    "\n",
    "❌ Invalid:\n",
    "- `sort(numbers)` (not defined)\n",
    "- `sorted(numbers)` (returns a new list)\n",
    "- `numbers.sorted()` (not a valid method)\n",
    "\n",
    "#### Accessing dictionary keys:\n"
   ]
  },
  {
   "cell_type": "code",
   "execution_count": 19,
   "id": "1f6c950a",
   "metadata": {},
   "outputs": [
    {
     "name": "stdout",
     "output_type": "stream",
     "text": [
      "dict_keys(['name', 'grade'])\n"
     ]
    }
   ],
   "source": [
    "student = {'name': 'Alice', 'grade': 'A'}\n",
    "keys = student.keys()\n",
    "print(keys)"
   ]
  },
  {
   "cell_type": "markdown",
   "id": "7b87e9f2",
   "metadata": {},
   "source": [
    "\n",
    "✅ Keys: `'name', 'grade'`\n",
    "\n",
    "---"
   ]
  },
  {
   "cell_type": "markdown",
   "id": "115883ff",
   "metadata": {},
   "source": [
    "This content is based on the IBM Cognitive Class course *Python 101 for Data Science*, Module 3: Python Programming Fundamentals. Exercises and review questions reinforce understanding of core collection types in Python.\n"
   ]
  }
 ],
 "metadata": {
  "kernelspec": {
   "display_name": "Python 3",
   "language": "python",
   "name": "python3"
  },
  "language_info": {
   "codemirror_mode": {
    "name": "ipython",
    "version": 3
   },
   "file_extension": ".py",
   "mimetype": "text/x-python",
   "name": "python",
   "nbconvert_exporter": "python",
   "pygments_lexer": "ipython3",
   "version": "3.12.1"
  }
 },
 "nbformat": 4,
 "nbformat_minor": 5
}
