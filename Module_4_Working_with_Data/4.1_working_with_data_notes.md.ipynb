{
 "cells": [
  {
   "cell_type": "markdown",
   "id": "8be325f2",
   "metadata": {},
   "source": [
    "\n",
    "# 🧠 Module 4: Working with Data in Python\n",
    "\n",
    "This module introduces core techniques for interacting with data in Python, focusing on file I/O and DataFrame operations with Pandas. After completing this module, you will be able to:\n",
    "\n",
    "- Read data from files using the `open()` function.\n",
    "- Write and append data to files.\n",
    "- Load datasets into Pandas.\n",
    "- Manipulate and save data using Pandas.\n",
    "\n",
    "---\n",
    "\n",
    "### 📂 Reading Files\n",
    "\n",
    "Python’s built-in `open()` function can be used to read text files.\n",
    "\n",
    "#### Example:\n"
   ]
  },
  {
   "cell_type": "code",
   "execution_count": 2,
   "id": "aa303582",
   "metadata": {},
   "outputs": [
    {
     "name": "stdout",
     "output_type": "stream",
     "text": [
      "\n"
     ]
    }
   ],
   "source": [
    "with open(\"data_sample.txt\", \"r\") as file:\n",
    "    lines = file.readlines()\n",
    "    for line in lines:\n",
    "        print(line.strip())\n",
    "\n",
    "\n",
    "# create a data example, in txt format:\n",
    "with open(\"data_sample.txt\", \"w\") as file:\n",
    "    file.write(\"This is a sample line 1.\\n\")\n",
    "    file.write(\"This is a sample line 2.\\n\")\n",
    "    file.write(\"This is a sample line 3.\\n\")\n",
    "    file.write(\"This is a sample line 4.\\n\")\n",
    "    file.write(\"This is a sample line 5.\\n\")"
   ]
  },
  {
   "cell_type": "markdown",
   "id": "82201c03",
   "metadata": {},
   "source": [
    "\n",
    "This code opens the file `data_sample.txt` in read mode, reads all lines into a list, and prints each line without newline characters.\n",
    "\n",
    "✅ **Key Concept:** Use `\"r\"` mode to read from a file.\n",
    "\n",
    "---\n",
    "\n",
    "### ✍️ Writing Files\n",
    "\n",
    "Files can be written to using `\"w\"` mode, which overwrites existing content or creates a new file.\n",
    "\n",
    "#### Example:\n"
   ]
  },
  {
   "cell_type": "code",
   "execution_count": 3,
   "id": "c29905b7",
   "metadata": {},
   "outputs": [],
   "source": [
    "with open(\"log.txt\", \"w\") as file:\n",
    "    file.write(\"Session started\\n\")\n",
    "    file.write(\"No errors found.\\n\")"
   ]
  },
  {
   "cell_type": "markdown",
   "id": "a3c8e5e1",
   "metadata": {},
   "source": [
    "\n",
    "\n",
    "✅ **Key Concept:** `\"w\"` mode truncates the file and starts writing from scratch.\n",
    "\n",
    "---\n",
    "\n",
    "### ➕ Appending to Files\n",
    "\n",
    "Appending content can be done using `\"a\"` mode, which preserves existing data and adds new content to the end of the file.\n",
    "\n",
    "#### Example:\n"
   ]
  },
  {
   "cell_type": "code",
   "execution_count": 4,
   "id": "7172b929",
   "metadata": {},
   "outputs": [],
   "source": [
    "with open(\"log.txt\", \"a\") as file:\n",
    "    file.write(\"Session ended successfully.\\n\")"
   ]
  },
  {
   "cell_type": "markdown",
   "id": "7f63801e",
   "metadata": {},
   "source": [
    "\n",
    "\n",
    "✅ **Key Concept:** `\"a\"` mode appends content to an existing file.\n",
    "\n",
    "---\n",
    "\n",
    "### 🐼 Loading Data with Pandas\n",
    "\n",
    "The `pandas` library provides the `read_csv()` function to load structured data from CSV files into DataFrames.\n",
    "\n",
    "#### Example:\n"
   ]
  },
  {
   "cell_type": "code",
   "execution_count": 7,
   "id": "963d7ffe",
   "metadata": {},
   "outputs": [],
   "source": [
    "# Write information in the file : employees.csv\n",
    "with open(\"employees.csv\", \"w\") as file:\n",
    "    file.write(\"Name,Position,Salary\\n\")\n",
    "    file.write(\"Alice,Software Engineer,70000\\n\")\n",
    "    file.write(\"Bob,Data Scientist,80000\\n\")\n",
    "    file.write(\"Charlie,Product Manager,90000\\n\")\n",
    "    file.write(\"David,System Administrator,60000\\n\")\n",
    "    file.write(\"Eve,UX Designer,75000\\n\")"
   ]
  },
  {
   "cell_type": "code",
   "execution_count": 8,
   "id": "709f7bad",
   "metadata": {},
   "outputs": [
    {
     "name": "stdout",
     "output_type": "stream",
     "text": [
      "      Name           Position  Salary\n",
      "0    Alice  Software Engineer   70000\n",
      "1      Bob     Data Scientist   80000\n",
      "2  Charlie    Product Manager   90000\n"
     ]
    }
   ],
   "source": [
    "import pandas as pd\n",
    "\n",
    "df = pd.read_csv(\"employees.csv\")\n",
    "print(df.head(3))"
   ]
  },
  {
   "cell_type": "markdown",
   "id": "5f2de351",
   "metadata": {},
   "source": [
    "\n",
    "\n",
    "This code reads a CSV file and prints the first three rows of the DataFrame.\n",
    "\n",
    "✅ **Key Concept:** `pd.read_csv()` is ideal for loading tabular data.\n",
    "\n",
    "---\n",
    "\n",
    "### 🧮 Working with and Saving Data\n",
    "\n",
    "Once loaded, a DataFrame can be filtered, analyzed, and saved back to disk.\n",
    "\n",
    "#### Example:\n"
   ]
  },
  {
   "cell_type": "code",
   "execution_count": 14,
   "id": "bb8763b2",
   "metadata": {},
   "outputs": [],
   "source": [
    "# Write information in the file sales_team.csv (including department and Sales):\n",
    "with open(\"sales_team.csv\", \"w\") as file:\n",
    "    file.write(\"Name,Department,Sales\\n\")\n",
    "    file.write(\"Alice,North,150000\\n\")\n",
    "    file.write(\"Bob,South,200000\\n\")\n",
    "    file.write(\"Charlie,East,180000\\n\")\n",
    "    file.write(\"David,West,220000\\n\")\n",
    "    file.write(\"Eve,Central,170000\\n\")\n",
    "\n"
   ]
  },
  {
   "cell_type": "code",
   "execution_count": 16,
   "id": "f9486663",
   "metadata": {},
   "outputs": [],
   "source": [
    "sales_df = pd.read_csv(\"sales_team.csv\")\n",
    "filtered_df = sales_df[sales_df[\"Department\"] == \"Sales\"]\n",
    "filtered_df.to_csv(\"sales_team.csv\", index=False)"
   ]
  },
  {
   "cell_type": "markdown",
   "id": "3c00f590",
   "metadata": {},
   "source": [
    "\n",
    "\n",
    "This code filters rows where the department is “Sales” and saves them to a new CSV file.\n",
    "\n",
    "✅ **Key Concepts:**\n",
    "- Boolean indexing enables filtering.\n",
    "- `.to_csv()` saves a DataFrame to a CSV file.\n",
    "\n",
    "---\n",
    "\n",
    "These practices form the foundation for working with datasets in Python, including reading from and writing to text files, as well as efficiently handling structured data with Pandas.\n"
   ]
  }
 ],
 "metadata": {
  "kernelspec": {
   "display_name": "Python 3",
   "language": "python",
   "name": "python3"
  },
  "language_info": {
   "codemirror_mode": {
    "name": "ipython",
    "version": 3
   },
   "file_extension": ".py",
   "mimetype": "text/x-python",
   "name": "python",
   "nbconvert_exporter": "python",
   "pygments_lexer": "ipython3",
   "version": "3.12.1"
  }
 },
 "nbformat": 4,
 "nbformat_minor": 5
}
