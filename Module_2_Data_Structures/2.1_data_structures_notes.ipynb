{
 "cells": [
  {
   "cell_type": "markdown",
   "id": "4a31c56b",
   "metadata": {},
   "source": [
    "# 🧠 Module 2: Python Data Structures\n",
    "\n",
    "This module explores the fundamental data structures used in Python for storing and manipulating collections of data. Upon completing this section, you should be able to:\n",
    "\n",
    "- Understand and apply tuples, lists, sets, and dictionaries.\n",
    "- Differentiate between mutable and immutable data types.\n",
    "- Perform basic operations on each data structure.\n",
    "\n",
    "---\n",
    "\n",
    "## 📦 Tuples\n",
    "\n",
    "A **tuple** is an immutable sequence type in Python. Once created, its elements cannot be changed."
   ]
  },
  {
   "cell_type": "code",
   "execution_count": 1,
   "id": "99d437dc",
   "metadata": {},
   "outputs": [
    {
     "name": "stdout",
     "output_type": "stream",
     "text": [
      "20.3\n"
     ]
    }
   ],
   "source": [
    "coordinates = (10.5, 20.3)\n",
    "print(coordinates[1])  # Output: 20.3"
   ]
  },
  {
   "cell_type": "markdown",
   "id": "689cb8ab",
   "metadata": {},
   "source": [
    "- Tuples are defined using parentheses `()`.\n",
    "- Indexing and slicing are supported.\n",
    "- Tuples are often used to store fixed collections of items.\n",
    "\n",
    "---\n",
    "\n",
    "## 📋 Lists\n",
    "\n",
    "A **list** is a mutable sequence used to store a collection of items."
   ]
  },
  {
   "cell_type": "code",
   "execution_count": 2,
   "id": "4970d876",
   "metadata": {},
   "outputs": [
    {
     "name": "stdout",
     "output_type": "stream",
     "text": [
      "['apple', 'banana', 'cherry']\n"
     ]
    }
   ],
   "source": [
    "fruits = ['apple', 'banana']\n",
    "fruits.append('cherry')\n",
    "print(fruits)  # Output: ['apple', 'banana', 'cherry']"
   ]
  },
  {
   "cell_type": "markdown",
   "id": "691f11c8",
   "metadata": {},
   "source": [
    "- Lists are defined with square brackets `[]`.\n",
    "- Elements can be added, removed, or modified.\n",
    "- Methods include `.append()`, `.remove()`, `.insert()`, `.pop()`, and `.sort()`.\n",
    "\n",
    "---\n",
    "\n",
    "## 🔘 Sets\n",
    "\n",
    "A **set** is an unordered collection of **unique** elements."
   ]
  },
  {
   "cell_type": "code",
   "execution_count": 3,
   "id": "6accfb99",
   "metadata": {},
   "outputs": [
    {
     "name": "stdout",
     "output_type": "stream",
     "text": [
      "{'blue', 'green', 'red'}\n"
     ]
    }
   ],
   "source": [
    "colors = {'red', 'blue', 'green', 'red'}\n",
    "print(colors)  # Output: {'red', 'blue', 'green'}"
   ]
  },
  {
   "cell_type": "markdown",
   "id": "8c799899",
   "metadata": {},
   "source": [
    "- Sets automatically eliminate duplicates.\n",
    "- Defined using curly braces `{}` or the `set()` function.\n",
    "- Support operations like union, intersection, difference:"
   ]
  },
  {
   "cell_type": "code",
   "execution_count": 4,
   "id": "8c47d9e4",
   "metadata": {},
   "outputs": [
    {
     "name": "stdout",
     "output_type": "stream",
     "text": [
      "{3}\n"
     ]
    }
   ],
   "source": [
    "a = {1, 2, 3}\n",
    "b = {3, 4, 5}\n",
    "print(a & b)  # Output: {3}"
   ]
  },
  {
   "cell_type": "markdown",
   "id": "2682eed5",
   "metadata": {},
   "source": [
    "---\n",
    "\n",
    "## 🧾 Dictionaries\n",
    "\n",
    "A **dictionary** is a key-value mapping structure."
   ]
  },
  {
   "cell_type": "code",
   "execution_count": 5,
   "id": "4503976a",
   "metadata": {},
   "outputs": [
    {
     "name": "stdout",
     "output_type": "stream",
     "text": [
      "30\n"
     ]
    }
   ],
   "source": [
    "person = {'name': 'Alice', 'age': 30}\n",
    "print(person['age'])  # Output: 30"
   ]
  },
  {
   "cell_type": "markdown",
   "id": "130607ab",
   "metadata": {},
   "source": [
    "- Keys must be unique and immutable (e.g., strings, numbers).\n",
    "- Values can be any type.\n",
    "- Common methods include `.keys()`, `.values()`, `.items()`, and `.get()`."
   ]
  },
  {
   "cell_type": "code",
   "execution_count": 6,
   "id": "b95899fe",
   "metadata": {},
   "outputs": [
    {
     "name": "stdout",
     "output_type": "stream",
     "text": [
      "Alice\n"
     ]
    }
   ],
   "source": [
    "print(person.get('name'))  # Output: Alice"
   ]
  },
  {
   "cell_type": "markdown",
   "id": "492c7c68",
   "metadata": {},
   "source": [
    "---\n",
    "\n",
    "## ✅ Summary\n",
    "\n",
    "| Structure   | Ordered | Mutable | Duplicates | Syntax     |\n",
    "|-------------|---------|---------|------------|------------|\n",
    "| Tuple       | Yes     | No      | Yes        | `(a, b, c)`|\n",
    "| List        | Yes     | Yes     | Yes        | `[a, b, c]`|\n",
    "| Set         | No      | Yes     | No         | `{a, b, c}`|\n",
    "| Dictionary  | No*     | Yes     | No (keys)  | `{'key': value}` |\n",
    "\n",
    "> Note: As of Python 3.7+, dictionaries maintain insertion order.\n",
    "\n",
    "---\n",
    "\n",
    "This content is based on the IBM Cognitive Class course *Python 101 for Data Science*, Module 2: Python Data Structures. Exercises and review questions reinforce understanding of core collection types in Python."
   ]
  }
 ],
 "metadata": {
  "kernelspec": {
   "display_name": "Python 3",
   "language": "python",
   "name": "python3"
  },
  "language": "python",
  "language_info": {
   "codemirror_mode": {
    "name": "ipython",
    "version": 3
   },
   "file_extension": ".py",
   "mimetype": "text/x-python",
   "name": "python",
   "nbconvert_exporter": "python",
   "pygments_lexer": "ipython3",
   "version": "3.12.1"
  }
 },
 "nbformat": 4,
 "nbformat_minor": 5
}
